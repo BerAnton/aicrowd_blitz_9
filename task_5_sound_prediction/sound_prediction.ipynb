{
 "cells": [
  {
   "cell_type": "markdown",
   "id": "1d9f36b1",
   "metadata": {},
   "source": [
    "# Login and data download"
   ]
  },
  {
   "cell_type": "code",
   "execution_count": null,
   "id": "941c8dab",
   "metadata": {},
   "outputs": [],
   "source": [
    "!pip install aicrowd-cli\n",
    "API_KEY = \"\" \n",
    "!aicrowd login --api-key $API_KEY\n",
    "\n",
    "!mkdir data\n",
    "!mkdir assets\n",
    "\n",
    "!aicrowd dataset download --challenge sound-prediction -j 3 -o data"
   ]
  },
  {
   "cell_type": "markdown",
   "id": "3cd206ff",
   "metadata": {},
   "source": [
    "# Install packages"
   ]
  },
  {
   "cell_type": "code",
   "execution_count": null,
   "id": "b791f622",
   "metadata": {},
   "outputs": [],
   "source": [
    "!git clone --branch v0.9.3 https://github.com/mozilla/DeepSpeech\n",
    "    \n",
    "%cd /content/\n",
    "!sudo apt-get install python3-venv\n",
    "!sudo apt-get install python3-dev\n",
    "!pip install --upgrade pip\n",
    "!sudo apt-get install sox\n",
    "!sudo apt-get install sox libsox-fmt-mp3\n",
    "!sudo apt install git\n",
    "!pip install librosa==0.7.2\n",
    "!sudo apt-get install pciutils\n",
    "!lspci | grep -i nvidia\n",
    "\n",
    "!wget https://github.com/git-lfs/git-lfs/releases/download/v2.11.0/git-lfs-linux-amd64-v2.11.0.tar.gz\n",
    "!tar xvf /content/git-lfs-linux-amd64-v2.11.0.tar.gz -C /content\n",
    "!sudo bash /content/install.sh\n",
    "%cd /content/DeepSpeech\n",
    "!git-lfs pull\n",
    "\n",
    "!wget https://github.com/mozilla/DeepSpeech/releases/download/v0.7.4/ds_ctcdecoder-0.7.4-cp36-cp36m-manylinux1_x86_64.whl\n",
    "!pip install /content/DeepSpeech/ds_ctcdecoder-0.7.4-cp36-cp36m-manylinux1_x86_64.whl\n",
    "\n",
    "!pip3 install folium==0.2.1\n",
    "!pip3 install --upgrade pip==20.0.2 wheel==0.34.2 setuptools==46.1.3\n",
    "!pip3 install --upgrade --force-reinstall -e ."
   ]
  },
  {
   "cell_type": "code",
   "execution_count": null,
   "id": "e8f15e1a",
   "metadata": {},
   "outputs": [],
   "source": [
    "import os\n",
    "os.kill(os.getpid(), 9)"
   ]
  },
  {
   "cell_type": "code",
   "execution_count": null,
   "id": "1500e5a0",
   "metadata": {},
   "outputs": [],
   "source": [
    "! echo $PATH\n",
    "\n",
    "import os\n",
    "os.environ['PATH'] += \":/usr/local/cuda-10.0/bin\"\n",
    "os.environ['CUDADIR'] = \"/usr/local/cuda-10.0\"\n",
    "os.environ['LD_LIBRARY_PATH'] = \"/usr/lib64-nvidia:/usr/local/cuda-10.0/lib64\"\n",
    "\n",
    "!echo $PATH\n",
    "!echo $LD_LIBRARY_PATH\n",
    "!source ~/.bashrc\n",
    "\n",
    "!env | grep -i cuda\n",
    "\n",
    "%cd /content/\n",
    "!wget https://developer.download.nvidia.com/compute/cuda/repos/ubuntu1804/x86_64/cuda-repo-ubuntu1804_10.0.130-1_amd64.deb\n",
    "!sudo apt-get install freeglut3 freeglut3-dev libxi-dev libxmu-dev\n",
    "!sudo apt-get install build-essential dkms\n",
    "!sudo dpkg -i cuda-repo-ubuntu1804_10.0.130-1_amd64.deb\n",
    "!sudo apt-key adv --fetch-keys https://developer.download.nvidia.com/compute/cuda/repos/ubuntu1804/x86_64/7fa2af80.pub\n",
    "\n",
    "!sudo apt-get update\n",
    "!sudo apt-get install cuda-10-0\n",
    "\n",
    "!sudo rm /usr/local/cuda\n",
    "!sudo ln -s /usr/local/cuda-10.0 /usr/local/cuda\n",
    "%ls -l /usr/local/\n",
    "\n",
    "!pip3 uninstall tensorflow -y\n",
    "!pip3 install 'tensorflow-gpu==1.15.2'"
   ]
  },
  {
   "cell_type": "markdown",
   "id": "21eb95ec",
   "metadata": {},
   "source": [
    "# Utiliry functions and constants"
   ]
  },
  {
   "cell_type": "code",
   "execution_count": null,
   "id": "7abeb0f5",
   "metadata": {},
   "outputs": [],
   "source": [
    "DATA_FOLDER = \"data\""
   ]
  },
  {
   "cell_type": "code",
   "execution_count": null,
   "id": "5c724fb2",
   "metadata": {},
   "outputs": [],
   "source": [
    "def preprocess_data(df, set_name):\n",
    "    df['wav_filename'] = df['SoundID'].apply(lambda x : os.path.join(\"/content\", \"data\", set_name+\"/\" +str(x) + \".wav\"))\n",
    "    df['transcript'] = df['label']\n",
    "    df['wav_filesize'] = 30000\n",
    "\n",
    "    return df"
   ]
  },
  {
   "cell_type": "code",
   "execution_count": null,
   "id": "ff90ba28",
   "metadata": {},
   "outputs": [],
   "source": []
  },
  {
   "cell_type": "markdown",
   "id": "0ee7cafe",
   "metadata": {},
   "source": [
    "# Import"
   ]
  },
  {
   "cell_type": "code",
   "execution_count": null,
   "id": "1b977351",
   "metadata": {},
   "outputs": [],
   "source": [
    "import pandas as pd\n",
    "import re\n",
    "from ast import literal_eval\n",
    "import os\n",
    "import librosa"
   ]
  },
  {
   "cell_type": "markdown",
   "id": "7a6562f0",
   "metadata": {},
   "source": [
    "# Data preprocessing"
   ]
  },
  {
   "cell_type": "code",
   "execution_count": null,
   "id": "144991a9",
   "metadata": {},
   "outputs": [],
   "source": [
    "!unzip /content/data/train.zip  -d /content/data/train >/dev/null\n",
    "!unzip /content/data/val.zip -d /content/data/val >/dev/null\n",
    "!unzip /content/data/test.zip -d /content/data/test >/dev/null"
   ]
  },
  {
   "cell_type": "code",
   "execution_count": null,
   "id": "f40e7b3f",
   "metadata": {},
   "outputs": [],
   "source": [
    "train_df = pd.read_csv(os.path.join(DATA_FOLDER, \"train.csv\"))\n",
    "val_df = pd.read_csv(os.path.join(DATA_FOLDER, \"val.csv\"))\n",
    "test_df = pd.read_csv(os.path.join(DATA_FOLDER, \"test.csv\"))"
   ]
  },
  {
   "cell_type": "code",
   "execution_count": null,
   "id": "ec1b24fd",
   "metadata": {},
   "outputs": [],
   "source": [
    "train_df = preprocess_data(train_df, \"train\")\n",
    "val_df = preprocess_data(val_df, \"val\")\n",
    "test_df = preprocess_data(test_df, \"test\")"
   ]
  },
  {
   "cell_type": "markdown",
   "id": "57004957",
   "metadata": {},
   "source": [
    "# Train model"
   ]
  },
  {
   "cell_type": "code",
   "execution_count": null,
   "id": "c7a9ef44",
   "metadata": {},
   "outputs": [],
   "source": [
    "%cd DeepSpeech  \n",
    "\n",
    "!python DeepSpeech.py --train_files ../deepspeech_train.csv --dev_files ../deepspeech_val.csv --test_files ../deepspeech_test.csv \\\n",
    " --n_hidden 2048 \\\n",
    "--audio_sample_rate 8000 --train_batch_size 32 --dev_batch_size 32 --test_batch_size 32 \\\n",
    "--automatic_mixed_precision True --epochs 7 \\\n",
    "--test_output_file ../assets/output.txt\n",
    "\n",
    "%cd .."
   ]
  },
  {
   "cell_type": "markdown",
   "id": "aa3b0d7f",
   "metadata": {},
   "source": [
    "# Prediction"
   ]
  },
  {
   "cell_type": "code",
   "execution_count": null,
   "id": "77ad3a52",
   "metadata": {},
   "outputs": [],
   "source": [
    "data = open(os.path.join(\"assets\", \"output.txt\"))\n",
    "output = data.read()\n",
    "\n",
    "output = literal_eval(output)"
   ]
  },
  {
   "cell_type": "code",
   "execution_count": null,
   "id": "b3772f62",
   "metadata": {},
   "outputs": [],
   "source": [
    "SoundID = [int(sample['wav_filename'].split(\"/\")[-1].split(\".\")[0])  for sample in output]\n",
    "label = [sample['res']  for sample in output]"
   ]
  },
  {
   "cell_type": "code",
   "execution_count": null,
   "id": "726f9a67",
   "metadata": {},
   "outputs": [],
   "source": [
    "test_df['SoundID'] = SoundID\n",
    "test_df['label'] = label\n",
    "test_df = test_df.sort_values(\"SoundID\")"
   ]
  },
  {
   "cell_type": "markdown",
   "id": "d8c53c29",
   "metadata": {},
   "source": [
    "# Make submission"
   ]
  },
  {
   "cell_type": "code",
   "execution_count": null,
   "id": "fee5c424",
   "metadata": {},
   "outputs": [],
   "source": [
    "test_df.to_csv(os.path.join(\"assets\", \"submission.csv\"), index=False)"
   ]
  },
  {
   "cell_type": "code",
   "execution_count": null,
   "id": "f976dd2b",
   "metadata": {},
   "outputs": [],
   "source": [
    "!aicrowd notebook submit -c sound-prediction -a assets --no-verify"
   ]
  }
 ],
 "metadata": {
  "kernelspec": {
   "display_name": "Python 3",
   "language": "python",
   "name": "python3"
  },
  "language_info": {
   "codemirror_mode": {
    "name": "ipython",
    "version": 3
   },
   "file_extension": ".py",
   "mimetype": "text/x-python",
   "name": "python",
   "nbconvert_exporter": "python",
   "pygments_lexer": "ipython3",
   "version": "3.9.5"
  }
 },
 "nbformat": 4,
 "nbformat_minor": 5
}
