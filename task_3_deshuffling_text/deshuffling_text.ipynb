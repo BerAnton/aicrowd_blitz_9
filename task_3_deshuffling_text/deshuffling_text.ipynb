{
 "cells": [
  {
   "cell_type": "markdown",
   "id": "49fbeb0b",
   "metadata": {},
   "source": [
    "# Login and data download"
   ]
  },
  {
   "cell_type": "code",
   "execution_count": null,
   "id": "4f37362f",
   "metadata": {},
   "outputs": [],
   "source": [
    "!pip install aicrowd-cli\n",
    "!mkdir data"
   ]
  },
  {
   "cell_type": "markdown",
   "id": "de424ab6",
   "metadata": {},
   "source": [
    "# Utility function and constants"
   ]
  },
  {
   "cell_type": "code",
   "execution_count": null,
   "id": "e673a0c7",
   "metadata": {},
   "outputs": [],
   "source": [
    "def preprocess_function(sample):\n",
    "  \n",
    "    text = sample[\"text\"]\n",
    "    label = sample[\"label\"]\n",
    "\n",
    "    inputs = tokenizer(text, padding=\"max_length\", truncation=True, max_length=MAX_TEXT_LENGTH)\n",
    "    outputs = tokenizer(label, padding=\"max_length\", truncation=True, max_length=MAX_LABEL_LENGTH)\n",
    "\n",
    "\n",
    "    sample[\"input_ids\"] = inputs.input_ids\n",
    "    sample[\"attention_mask\"] = inputs.attention_mask\n",
    "    sample[\"decoder_input_ids\"] = outputs.input_ids\n",
    "    sample[\"decoder_attention_mask\"] = outputs.attention_mask\n",
    "    sample[\"labels\"] = outputs.input_ids\n",
    "\n",
    "    sample[\"labels\"] = [[-100 if token == tokenizer.pad_token_id else token for token in labels] for labels in sample[\"labels\"]]\n",
    "\n",
    "    return sample"
   ]
  },
  {
   "cell_type": "code",
   "execution_count": null,
   "id": "e691ddf8",
   "metadata": {},
   "outputs": [],
   "source": [
    "def generate_predictions(batch):\n",
    "\n",
    "    inputs = tokenizer(batch[\"text\"], padding=\"max_length\", truncation=True, max_length=MAX_TEXT_LENGTH, return_tensors=\"pt\")\n",
    "    \n",
    "    input_ids = inputs.input_ids.to(\"cuda\")\n",
    "    attention_mask = inputs.attention_mask.to(\"cuda\")\n",
    "\n",
    "    outputs = model.generate(input_ids, attention_mask=attention_mask)\n",
    "\n",
    "    output_str = tokenizer.batch_decode(outputs, skip_special_tokens=True)\n",
    "\n",
    "    batch[\"predictions\"] = output_str\n",
    "\n",
    "    return batch"
   ]
  },
  {
   "cell_type": "code",
   "execution_count": null,
   "id": "2f7925fc",
   "metadata": {},
   "outputs": [],
   "source": [
    "MAX_TEXT_LENGTH = 150\n",
    "MAX_LABEL_LENGTH = 150"
   ]
  },
  {
   "cell_type": "markdown",
   "id": "9cb1d980",
   "metadata": {},
   "source": [
    "# Import"
   ]
  },
  {
   "cell_type": "code",
   "execution_count": null,
   "id": "7d68b785",
   "metadata": {},
   "outputs": [],
   "source": [
    "import pandas as pd\n",
    "import numpy as np\n",
    "import os\n",
    "\n",
    "import torch\n",
    "import datasets\n",
    "from datasets import load_dataset\n",
    "from transformers import EncoderDecoderModel, EncoderDecoderConfig, BertTokenizerFast, Seq2SeqTrainingArguments, Seq2SeqTrainer, BertConfig"
   ]
  },
  {
   "cell_type": "markdown",
   "id": "82e8eb7f",
   "metadata": {},
   "source": [
    "# Data preprocessing"
   ]
  },
  {
   "cell_type": "code",
   "execution_count": null,
   "id": "aa58f016",
   "metadata": {},
   "outputs": [],
   "source": [
    "train_dataset = pd.read_csv(\"data/train.csv\")\n",
    "validation_dataset = pd.read_csv(\"data/val.csv\")\n",
    "test_dataset = pd.read_csv(\"data/test.csv\")"
   ]
  },
  {
   "cell_type": "code",
   "execution_count": null,
   "id": "01108159",
   "metadata": {},
   "outputs": [],
   "source": [
    "dataset = load_dataset('csv', data_files={\"train\"     : [\"data/train.csv\"], \n",
    "                                          \"validation\": [\"data/val.csv\"], \n",
    "                                          \"test\"      : [\"data/test.csv\"]})"
   ]
  },
  {
   "cell_type": "code",
   "execution_count": null,
   "id": "2c510692",
   "metadata": {},
   "outputs": [],
   "source": [
    "tokenizer = BertTokenizerFast.from_pretrained(\"bert-base-uncased\")"
   ]
  },
  {
   "cell_type": "code",
   "execution_count": null,
   "id": "cbc2a5a5",
   "metadata": {},
   "outputs": [],
   "source": [
    "BATCH_SIZE = 16\n",
    "      \n",
    "tokenized_datasets = dataset.map(preprocess_function, batch_size=BATCH_SIZE, batched=True)"
   ]
  },
  {
   "cell_type": "code",
   "execution_count": null,
   "id": "b3e23ffe",
   "metadata": {},
   "outputs": [],
   "source": [
    "tokenized_datasets.set_format(\n",
    "    type=\"torch\", columns=[\"input_ids\", \"attention_mask\", \"decoder_input_ids\", \"decoder_attention_mask\", \"labels\"],\n",
    ")"
   ]
  },
  {
   "cell_type": "markdown",
   "id": "b9233023",
   "metadata": {},
   "source": [
    "# Define model"
   ]
  },
  {
   "cell_type": "code",
   "execution_count": null,
   "id": "c1b34634",
   "metadata": {},
   "outputs": [],
   "source": [
    "model = EncoderDecoderModel.from_encoder_decoder_pretrained(\"bert-base-uncased\", \"bert-base-uncased\")"
   ]
  },
  {
   "cell_type": "code",
   "execution_count": null,
   "id": "50392e1c",
   "metadata": {},
   "outputs": [],
   "source": [
    "model.config.decoder_start_token_id = tokenizer.cls_token_id\n",
    "model.config.eos_token_id = tokenizer.sep_token_id\n",
    "model.config.pad_token_id = tokenizer.pad_token_id\n",
    "model.config.vocab_size = model.config.encoder.vocab_size"
   ]
  },
  {
   "cell_type": "code",
   "execution_count": null,
   "id": "f295af3f",
   "metadata": {},
   "outputs": [],
   "source": [
    "N_EPOCHS = 10\n",
    "\n",
    "args = Seq2SeqTrainingArguments(\n",
    "    \"Scambled Text\",\n",
    "    evaluation_strategy = \"epoch\",\n",
    "    per_device_train_batch_size=BATCH_SIZE,\n",
    "    per_device_eval_batch_size=BATCH_SIZE,\n",
    "    num_train_epochs=N_EPOCHS,\n",
    "    fp16=True,\n",
    "    save_strategy=\"epoch\",\n",
    "    save_total_limit=5,\n",
    ")"
   ]
  },
  {
   "cell_type": "code",
   "execution_count": null,
   "id": "e6a08aa9",
   "metadata": {},
   "outputs": [],
   "source": [
    "trainer = Seq2SeqTrainer(\n",
    "    model=model,\n",
    "    args=args,\n",
    "    train_dataset=tokenized_datasets['train'],\n",
    "    eval_dataset=tokenized_datasets['validation'],\n",
    ")"
   ]
  },
  {
   "cell_type": "markdown",
   "id": "d5428460",
   "metadata": {},
   "source": [
    "# Train model"
   ]
  },
  {
   "cell_type": "code",
   "execution_count": null,
   "id": "2adc2f90",
   "metadata": {},
   "outputs": [],
   "source": [
    "trainer.train()"
   ]
  },
  {
   "cell_type": "markdown",
   "id": "5d830a78",
   "metadata": {},
   "source": [
    "# Prediction"
   ]
  },
  {
   "cell_type": "code",
   "execution_count": null,
   "id": "e9dd65e7",
   "metadata": {},
   "outputs": [],
   "source": [
    "results = dataset['test'].map(generate_predictions, batched=True, batch_size=16)\n",
    "test_dataset['label'] = results['predictions']"
   ]
  },
  {
   "cell_type": "markdown",
   "id": "c4c043a4",
   "metadata": {},
   "source": [
    "# Make submission"
   ]
  },
  {
   "cell_type": "code",
   "execution_count": null,
   "id": "6d44d43a",
   "metadata": {},
   "outputs": [],
   "source": [
    "!mkdir assets\n",
    "test_dataset.to_csv(os.path.join(\"assets\", \"submission.csv\"), index=False)"
   ]
  },
  {
   "cell_type": "code",
   "execution_count": null,
   "id": "15f0b9af",
   "metadata": {},
   "outputs": [],
   "source": [
    "!aicrowd notebook submit -c deshuffling-text -a assets --no-verify"
   ]
  }
 ],
 "metadata": {
  "kernelspec": {
   "display_name": "Python 3",
   "language": "python",
   "name": "python3"
  },
  "language_info": {
   "codemirror_mode": {
    "name": "ipython",
    "version": 3
   },
   "file_extension": ".py",
   "mimetype": "text/x-python",
   "name": "python",
   "nbconvert_exporter": "python",
   "pygments_lexer": "ipython3",
   "version": "3.9.5"
  }
 },
 "nbformat": 4,
 "nbformat_minor": 5
}
